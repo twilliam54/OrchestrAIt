{
 "cells": [
  {
   "cell_type": "markdown",
   "id": "eb62ad9d",
   "metadata": {},
   "source": [
    "# OrchestrAIt Model Training\n",
    "\n",
    "This notebook serves as the the proof of concept and basis for OrrchestrAIt's initial workflow. We are using sample documents (which will be redacted to ensure confidentiality) to create a nueral network which can look at a document, label it to be routed correctly. This proof of concept outlines the rough edges of the product, there are several issues that need to be addressed in order to have a fully functioning product for end users. Below shows the initial approach to building a model."
   ]
  },
  {
   "cell_type": "code",
   "execution_count": 1,
   "id": "608731c3-25aa-478a-8389-9f183da689e3",
   "metadata": {
    "tags": []
   },
   "outputs": [],
   "source": [
    "import os\n",
    "import pandas as pd\n",
    "import numpy as np\n",
    "from transformers import BertTokenizer\n",
    "import tensorflow as tf\n",
    "import os\n",
    "import pathlib\n",
    "import fitz\n",
    "import logging\n",
    "import PyPDF2\n",
    "import shutil\n",
    "import pickle as pl\n",
    "from pdf2image import convert_from_path\n",
    "import nltk\n",
    "import pytesseract\n",
    "import cv2\n",
    "\n",
    "pytesseract.pytesseract.tesseract_cmd =r\"C:\\Program Files\\Tesseract-OCR\\tesseract\""
   ]
  },
  {
   "cell_type": "code",
   "execution_count": 2,
   "id": "678d340d-4958-4006-8093-7bdad8fde896",
   "metadata": {
    "tags": []
   },
   "outputs": [],
   "source": [
    "def split_pdf_template(input_path, output_prefix, final_output_path):\n",
    "    with open(input_path, 'rb') as file:\n",
    "        pdf_reader = PyPDF2.PdfReader(file)\n",
    "\n",
    "        for page_number, page in enumerate(pdf_reader.pages, start=1):\n",
    "            pdf_writer = PyPDF2.PdfWriter()\n",
    "            pdf_writer.add_page(page)\n",
    "\n",
    "            output_path = f\"{output_prefix}_{page_number}.pdf\"\n",
    "            with open(output_path, 'wb') as output_file:\n",
    "                pdf_writer.write(output_file)\n",
    "            shutil.move(output_prefix+\"_\"+str(page_number)+\".pdf\", final_output_path)\n",
    "            logging.info(f\"{output_path}_{page_number} saved to {final_output_path}\")"
   ]
  },
  {
   "cell_type": "code",
   "execution_count": 3,
   "id": "fda4956e",
   "metadata": {
    "tags": []
   },
   "outputs": [],
   "source": [
    "actual=r'redacted'\n",
    "actual_split=r'redacted'"
   ]
  },
  {
   "cell_type": "code",
   "execution_count": 4,
   "id": "ad821c36",
   "metadata": {
    "tags": []
   },
   "outputs": [],
   "source": [
    "split_pdf_template(actual, 'collateral', actual_split)"
   ]
  },
  {
   "cell_type": "code",
   "execution_count": 5,
   "id": "ebb41667-1fe3-468c-a336-cd4aa373d08b",
   "metadata": {
    "tags": []
   },
   "outputs": [],
   "source": [
    "def pdf_reader(file):\n",
    "    read=convert_from_path(file, dpi=400)\n",
    "    for i in read:\n",
    "        image=cv2.cvtColor(np.array(i), cv2.COLOR_RGB2BGR)\n",
    "        # Grayscale, Gaussian blur, Otsu's threshold\n",
    "        gray = cv2.cvtColor(image, cv2.COLOR_BGR2GRAY)\n",
    "        blur = cv2.GaussianBlur(gray, (3,3), 0)\n",
    "        thresh = cv2.threshold(blur, 0, 255, cv2.THRESH_BINARY_INV + cv2.THRESH_OTSU)[1]\n",
    "\n",
    "        # Morph open to remove noise and invert image\n",
    "        kernel = cv2.getStructuringElement(cv2.MORPH_RECT, (3,3))\n",
    "        opening = cv2.morphologyEx(thresh, cv2.MORPH_OPEN, kernel, iterations=1)\n",
    "        invert = 255 - opening\n",
    "        text=pytesseract.image_to_string(invert,lang='eng', config='--psm 6')\n",
    "    text=text.replace('\\n',' ')\n",
    "    return text"
   ]
  },
  {
   "cell_type": "code",
   "execution_count": 6,
   "id": "503da3e4-62f4-487e-ad59-c40458fb3936",
   "metadata": {
    "tags": []
   },
   "outputs": [],
   "source": [
    "training_folder = r'redacted'\n",
    "pytesseract.pytesseract.tesseract_cmd =r'redacted'"
   ]
  },
  {
   "cell_type": "code",
   "execution_count": 216,
   "id": "162e223d-5c5c-49bd-9bfb-521d049a85e5",
   "metadata": {
    "tags": []
   },
   "outputs": [],
   "source": [
    "# Create a function to convert all files to pdfs!!"
   ]
  },
  {
   "cell_type": "code",
   "execution_count": 7,
   "id": "06ceee95-30f6-4cea-9ec5-be2a836e6d4a",
   "metadata": {
    "tags": []
   },
   "outputs": [
    {
     "name": "stdout",
     "output_type": "stream",
     "text": [
      "<class 'pandas.core.frame.DataFrame'>\n",
      "RangeIndex: 358 entries, 0 to 357\n",
      "Data columns (total 3 columns):\n",
      " #   Column       Non-Null Count  Dtype \n",
      "---  ------       --------------  ----- \n",
      " 0   doc_type     358 non-null    object\n",
      " 1   doc_name     358 non-null    object\n",
      " 2   doc_content  358 non-null    object\n",
      "dtypes: object(3)\n",
      "memory usage: 8.5+ KB\n"
     ]
    },
    {
     "data": {
      "text/html": [
       "<div>\n",
       "<style scoped>\n",
       "    .dataframe tbody tr th:only-of-type {\n",
       "        vertical-align: middle;\n",
       "    }\n",
       "\n",
       "    .dataframe tbody tr th {\n",
       "        vertical-align: top;\n",
       "    }\n",
       "\n",
       "    .dataframe thead th {\n",
       "        text-align: right;\n",
       "    }\n",
       "</style>\n",
       "<table border=\"1\" class=\"dataframe\">\n",
       "  <thead>\n",
       "    <tr style=\"text-align: right;\">\n",
       "      <th></th>\n",
       "      <th>doc_type</th>\n",
       "      <th>doc_name</th>\n",
       "      <th>doc_content</th>\n",
       "    </tr>\n",
       "  </thead>\n",
       "  <tbody>\n",
       "    <tr>\n",
       "      <th>0</th>\n",
       "      <td>Foreclosure</td>\n",
       "      <td>COLFIL-7-18-2016-Loan_7000087964-102130339_133...</td>\n",
       "      <td>pee es Dates 08/30/2005 °° re ooo + £ Pitle No...</td>\n",
       "    </tr>\n",
       "    <tr>\n",
       "      <th>1</th>\n",
       "      <td>Foreclosure</td>\n",
       "      <td>COLFIL-7-18-2016-Loan_7000087964-102130339_134...</td>\n",
       "      <td>Soo. 3 BANKRUPTCY SEARCH *) 0 es -\".” “NAME OF...</td>\n",
       "    </tr>\n",
       "    <tr>\n",
       "      <th>2</th>\n",
       "      <td>Foreclosure</td>\n",
       "      <td>COLFIL-7-18-2016-Loan_7000087964-102130339_139...</td>\n",
       "      <td>|. Title No. FT120083.(576_Q_4295) a ee : oo M...</td>\n",
       "    </tr>\n",
       "    <tr>\n",
       "      <th>3</th>\n",
       "      <td>Foreclosure</td>\n",
       "      <td>COLFIL-7-18-2016-Loan_7000087964-102130339_140...</td>\n",
       "      <td>re s+ § 2 os Doecument “Execution Coversheet ‘...</td>\n",
       "    </tr>\n",
       "    <tr>\n",
       "      <th>4</th>\n",
       "      <td>Foreclosure</td>\n",
       "      <td>COLFIL-7-18-2016-Loan_7000087964-102130339_141...</td>\n",
       "      <td>SUPREME COURT OF THE STATE OF NEW YORK COUNTY ...</td>\n",
       "    </tr>\n",
       "    <tr>\n",
       "      <th>5</th>\n",
       "      <td>Foreclosure</td>\n",
       "      <td>COLFIL-7-18-2016-Loan_7000087964-102130339_142...</td>\n",
       "      <td>PLAINTIFF’S INTEREST IN THE MORTGAGE.  4. That...</td>\n",
       "    </tr>\n",
       "    <tr>\n",
       "      <th>6</th>\n",
       "      <td>Foreclosure</td>\n",
       "      <td>COLFIL-7-18-2016-Loan_7000087964-102130339_143...</td>\n",
       "      <td>“(See Complaint annexed hereto as Exhibit “ \" ...</td>\n",
       "    </tr>\n",
       "    <tr>\n",
       "      <th>7</th>\n",
       "      <td>Foreclosure</td>\n",
       "      <td>COLFIL-7-18-2016-Loan_7000087964-102130339_144...</td>\n",
       "      <td>Copies of the loan documents are annexed heret...</td>\n",
       "    </tr>\n",
       "    <tr>\n",
       "      <th>8</th>\n",
       "      <td>Foreclosure</td>\n",
       "      <td>COLFIL-7-18-2016-Loan_7000087964-102130339_145...</td>\n",
       "      <td>13. Therefore, Plaintiff has an ownership inte...</td>\n",
       "    </tr>\n",
       "    <tr>\n",
       "      <th>9</th>\n",
       "      <td>Foreclosure</td>\n",
       "      <td>COLFIL-7-18-2016-Loan_7000087964-102130339_146...</td>\n",
       "      <td>Sand advances: (See Complaint annesied hereto ...</td>\n",
       "    </tr>\n",
       "  </tbody>\n",
       "</table>\n",
       "</div>"
      ],
      "text/plain": [
       "      doc_type                                           doc_name  \\\n",
       "0  Foreclosure  COLFIL-7-18-2016-Loan_7000087964-102130339_133...   \n",
       "1  Foreclosure  COLFIL-7-18-2016-Loan_7000087964-102130339_134...   \n",
       "2  Foreclosure  COLFIL-7-18-2016-Loan_7000087964-102130339_139...   \n",
       "3  Foreclosure  COLFIL-7-18-2016-Loan_7000087964-102130339_140...   \n",
       "4  Foreclosure  COLFIL-7-18-2016-Loan_7000087964-102130339_141...   \n",
       "5  Foreclosure  COLFIL-7-18-2016-Loan_7000087964-102130339_142...   \n",
       "6  Foreclosure  COLFIL-7-18-2016-Loan_7000087964-102130339_143...   \n",
       "7  Foreclosure  COLFIL-7-18-2016-Loan_7000087964-102130339_144...   \n",
       "8  Foreclosure  COLFIL-7-18-2016-Loan_7000087964-102130339_145...   \n",
       "9  Foreclosure  COLFIL-7-18-2016-Loan_7000087964-102130339_146...   \n",
       "\n",
       "                                         doc_content  \n",
       "0  pee es Dates 08/30/2005 °° re ooo + £ Pitle No...  \n",
       "1  Soo. 3 BANKRUPTCY SEARCH *) 0 es -\".” “NAME OF...  \n",
       "2  |. Title No. FT120083.(576_Q_4295) a ee : oo M...  \n",
       "3  re s+ § 2 os Doecument “Execution Coversheet ‘...  \n",
       "4  SUPREME COURT OF THE STATE OF NEW YORK COUNTY ...  \n",
       "5  PLAINTIFF’S INTEREST IN THE MORTGAGE.  4. That...  \n",
       "6  “(See Complaint annexed hereto as Exhibit “ \" ...  \n",
       "7  Copies of the loan documents are annexed heret...  \n",
       "8  13. Therefore, Plaintiff has an ownership inte...  \n",
       "9  Sand advances: (See Complaint annesied hereto ...  "
      ]
     },
     "execution_count": 7,
     "metadata": {},
     "output_type": "execute_result"
    }
   ],
   "source": [
    "def doc_to_dataframe(path):\n",
    "    doc_list = [(str(dirpath).replace(path,\"\").replace(\"\\\\\",\"\"), name, pdf_reader(pathlib.Path(dirpath,name)))  if name.endswith('.pdf') \n",
    "        else (str(dirpath).replace(path,\"\").replace(\"\\\\\",\"\"), name, docx_to_text(pathlib.Path(dirpath,name))) if name.endswith('.docx') else None\n",
    "        for dirpath, subdirs, filenames in os.walk(path) \n",
    "            for name in filenames\n",
    "    ]\n",
    "    doc_list_df=pd.DataFrame(doc_list, columns=['doc_type', 'doc_name','doc_content'])\n",
    "    doc_list_df=doc_list_df.dropna()\n",
    "    return doc_list_df\n",
    "\n",
    "doc_df = doc_to_dataframe(training_folder)\n",
    "doc_df.info() # Quick sanity check shows how many documents we have and if there are any empty rows in our dataframe\n",
    "doc_df.head(10)"
   ]
  },
  {
   "cell_type": "code",
   "execution_count": 8,
   "id": "816caccc-5850-41ed-9bea-6e18b531cec7",
   "metadata": {
    "tags": []
   },
   "outputs": [
    {
     "name": "stderr",
     "output_type": "stream",
     "text": [
      "[nltk_data] Downloading package punkt to C:\\Users\\Tim\n",
      "[nltk_data]     Williams\\AppData\\Roaming\\nltk_data...\n",
      "[nltk_data]   Package punkt is already up-to-date!\n"
     ]
    }
   ],
   "source": [
    "# Tokenize the text using nltk so that words are evaluated and not individual letters\n",
    "\n",
    "nltk.download('punkt')  # Download the required resource\n",
    "tokenizer = nltk.tokenize.RegexpTokenizer(r'\\w+') # tokenize words\n",
    "\n",
    "def segment_text(text, max_length):\n",
    "    tokens = tokenizer.tokenize(text)\n",
    "    segments = []\n",
    "    current_segment = []\n",
    "    for token in tokens:\n",
    "        current_segment.append(token)\n",
    "        if len(current_segment) == max_length:\n",
    "            segments.append(current_segment)\n",
    "            current_segment = []\n",
    "    # If there are remaining tokens at the end, add them as the last segment\n",
    "    if current_segment:\n",
    "        segments.append(current_segment)\n",
    "    return segments"
   ]
  },
  {
   "cell_type": "code",
   "execution_count": 9,
   "id": "96b4c292-92ac-4332-88b1-0dbc8fe98323",
   "metadata": {
    "tags": []
   },
   "outputs": [],
   "source": [
    "# Create a new DataFrame to store segmented text\n",
    "\n",
    "# Set the sequence length\n",
    "max_sequence_length = 512\n",
    "# Initialize an empty DataFrame to store the segmented text\n",
    "doc_segments_df = pd.DataFrame(columns=['doc_type', 'doc_name', 'doc_content', 'doc_segments'])\n",
    "\n",
    "# Iterate over each row in the doc_df DataFrame\n",
    "for index, row in doc_df.iterrows():\n",
    "    segments = segment_text(row['doc_content'], max_sequence_length)\n",
    "    \n",
    "    # Create a new DataFrame for the segments of the current document\n",
    "    single_doc_segment_df = pd.DataFrame({'doc_type': row['doc_type'],\n",
    "                                          'doc_name': row['doc_name'],\n",
    "                                          'doc_content': row['doc_content'],\n",
    "                                          'doc_segments': [' '.join(segment) for segment in segments]})\n",
    "    \n",
    "    # Append the segmented text of the current document to the doc_segments_df DataFrame\n",
    "    doc_segments_df = pd.concat([doc_segments_df, single_doc_segment_df], ignore_index=True)"
   ]
  },
  {
   "cell_type": "code",
   "execution_count": 10,
   "id": "3f235f88-59fe-4737-a5f4-aff97fa84ab9",
   "metadata": {
    "tags": []
   },
   "outputs": [
    {
     "data": {
      "text/html": [
       "<div>\n",
       "<style scoped>\n",
       "    .dataframe tbody tr th:only-of-type {\n",
       "        vertical-align: middle;\n",
       "    }\n",
       "\n",
       "    .dataframe tbody tr th {\n",
       "        vertical-align: top;\n",
       "    }\n",
       "\n",
       "    .dataframe thead th {\n",
       "        text-align: right;\n",
       "    }\n",
       "</style>\n",
       "<table border=\"1\" class=\"dataframe\">\n",
       "  <thead>\n",
       "    <tr style=\"text-align: right;\">\n",
       "      <th></th>\n",
       "      <th>doc_type</th>\n",
       "      <th>doc_name</th>\n",
       "      <th>doc_content</th>\n",
       "      <th>doc_segments</th>\n",
       "    </tr>\n",
       "  </thead>\n",
       "  <tbody>\n",
       "    <tr>\n",
       "      <th>0</th>\n",
       "      <td>Foreclosure</td>\n",
       "      <td>COLFIL-7-18-2016-Loan_7000087964-102130339_133...</td>\n",
       "      <td>pee es Dates 08/30/2005 °° re ooo + £ Pitle No...</td>\n",
       "      <td>pee es Dates 08 30 2005 re ooo Pitle No FT1200...</td>\n",
       "    </tr>\n",
       "    <tr>\n",
       "      <th>1</th>\n",
       "      <td>Foreclosure</td>\n",
       "      <td>COLFIL-7-18-2016-Loan_7000087964-102130339_134...</td>\n",
       "      <td>Soo. 3 BANKRUPTCY SEARCH *) 0 es -\".” “NAME OF...</td>\n",
       "      <td>Soo 3 BANKRUPTCY SEARCH 0 es NAME OF INDIVIDUA...</td>\n",
       "    </tr>\n",
       "    <tr>\n",
       "      <th>2</th>\n",
       "      <td>Foreclosure</td>\n",
       "      <td>COLFIL-7-18-2016-Loan_7000087964-102130339_139...</td>\n",
       "      <td>|. Title No. FT120083.(576_Q_4295) a ee : oo M...</td>\n",
       "      <td>Title No FT120083 576_Q_4295 a ee oo Municipal...</td>\n",
       "    </tr>\n",
       "    <tr>\n",
       "      <th>3</th>\n",
       "      <td>Foreclosure</td>\n",
       "      <td>COLFIL-7-18-2016-Loan_7000087964-102130339_140...</td>\n",
       "      <td>re s+ § 2 os Doecument “Execution Coversheet ‘...</td>\n",
       "      <td>re s 2 os Doecument Execution Coversheet rr ar...</td>\n",
       "    </tr>\n",
       "    <tr>\n",
       "      <th>4</th>\n",
       "      <td>Foreclosure</td>\n",
       "      <td>COLFIL-7-18-2016-Loan_7000087964-102130339_141...</td>\n",
       "      <td>SUPREME COURT OF THE STATE OF NEW YORK COUNTY ...</td>\n",
       "      <td>SUPREME COURT OF THE STATE OF NEW YORK COUNTY ...</td>\n",
       "    </tr>\n",
       "    <tr>\n",
       "      <th>...</th>\n",
       "      <td>...</td>\n",
       "      <td>...</td>\n",
       "      <td>...</td>\n",
       "      <td>...</td>\n",
       "    </tr>\n",
       "    <tr>\n",
       "      <th>563</th>\n",
       "      <td>Title</td>\n",
       "      <td>collateral_82.pdf</td>\n",
       "      <td>Policy Number: LP-22-AL1038-5458023 File Numbe...</td>\n",
       "      <td>Policy Number LP 22 AL1038 5458023 File Number...</td>\n",
       "    </tr>\n",
       "    <tr>\n",
       "      <th>564</th>\n",
       "      <td>Title</td>\n",
       "      <td>collateral_83.pdf</td>\n",
       "      <td>Policy Number: LP-22-AL1038-5458023 File Numbe...</td>\n",
       "      <td>Policy Number LP 22 AL1038 5458023 File Number...</td>\n",
       "    </tr>\n",
       "    <tr>\n",
       "      <th>565</th>\n",
       "      <td>Title</td>\n",
       "      <td>collateral_84.pdf</td>\n",
       "      <td>Policy Number: LP-22-AL1038-5458023 File Numbe...</td>\n",
       "      <td>Policy Number LP 22 AL1038 5458023 File Number...</td>\n",
       "    </tr>\n",
       "    <tr>\n",
       "      <th>566</th>\n",
       "      <td>Title</td>\n",
       "      <td>collateral_85.pdf</td>\n",
       "      <td>Policy Number LP-22-AL1038-5458023 File Number...</td>\n",
       "      <td>Policy Number LP 22 AL1038 5458023 File Number...</td>\n",
       "    </tr>\n",
       "    <tr>\n",
       "      <th>567</th>\n",
       "      <td>Title</td>\n",
       "      <td>collateral_86.pdf</td>\n",
       "      <td>Policy Number: LP-22-AL1038-5458023 File Numbe...</td>\n",
       "      <td>Policy Number LP 22 AL1038 5458023 File Number...</td>\n",
       "    </tr>\n",
       "  </tbody>\n",
       "</table>\n",
       "<p>568 rows × 4 columns</p>\n",
       "</div>"
      ],
      "text/plain": [
       "        doc_type                                           doc_name  \\\n",
       "0    Foreclosure  COLFIL-7-18-2016-Loan_7000087964-102130339_133...   \n",
       "1    Foreclosure  COLFIL-7-18-2016-Loan_7000087964-102130339_134...   \n",
       "2    Foreclosure  COLFIL-7-18-2016-Loan_7000087964-102130339_139...   \n",
       "3    Foreclosure  COLFIL-7-18-2016-Loan_7000087964-102130339_140...   \n",
       "4    Foreclosure  COLFIL-7-18-2016-Loan_7000087964-102130339_141...   \n",
       "..           ...                                                ...   \n",
       "563        Title                                  collateral_82.pdf   \n",
       "564        Title                                  collateral_83.pdf   \n",
       "565        Title                                  collateral_84.pdf   \n",
       "566        Title                                  collateral_85.pdf   \n",
       "567        Title                                  collateral_86.pdf   \n",
       "\n",
       "                                           doc_content  \\\n",
       "0    pee es Dates 08/30/2005 °° re ooo + £ Pitle No...   \n",
       "1    Soo. 3 BANKRUPTCY SEARCH *) 0 es -\".” “NAME OF...   \n",
       "2    |. Title No. FT120083.(576_Q_4295) a ee : oo M...   \n",
       "3    re s+ § 2 os Doecument “Execution Coversheet ‘...   \n",
       "4    SUPREME COURT OF THE STATE OF NEW YORK COUNTY ...   \n",
       "..                                                 ...   \n",
       "563  Policy Number: LP-22-AL1038-5458023 File Numbe...   \n",
       "564  Policy Number: LP-22-AL1038-5458023 File Numbe...   \n",
       "565  Policy Number: LP-22-AL1038-5458023 File Numbe...   \n",
       "566  Policy Number LP-22-AL1038-5458023 File Number...   \n",
       "567  Policy Number: LP-22-AL1038-5458023 File Numbe...   \n",
       "\n",
       "                                          doc_segments  \n",
       "0    pee es Dates 08 30 2005 re ooo Pitle No FT1200...  \n",
       "1    Soo 3 BANKRUPTCY SEARCH 0 es NAME OF INDIVIDUA...  \n",
       "2    Title No FT120083 576_Q_4295 a ee oo Municipal...  \n",
       "3    re s 2 os Doecument Execution Coversheet rr ar...  \n",
       "4    SUPREME COURT OF THE STATE OF NEW YORK COUNTY ...  \n",
       "..                                                 ...  \n",
       "563  Policy Number LP 22 AL1038 5458023 File Number...  \n",
       "564  Policy Number LP 22 AL1038 5458023 File Number...  \n",
       "565  Policy Number LP 22 AL1038 5458023 File Number...  \n",
       "566  Policy Number LP 22 AL1038 5458023 File Number...  \n",
       "567  Policy Number LP 22 AL1038 5458023 File Number...  \n",
       "\n",
       "[568 rows x 4 columns]"
      ]
     },
     "execution_count": 10,
     "metadata": {},
     "output_type": "execute_result"
    }
   ],
   "source": [
    "doc_segments_df=doc_segments_df.reset_index(drop=True).dropna() #Need a method for validating blank pages\n",
    "doc_segments_df"
   ]
  },
  {
   "cell_type": "code",
   "execution_count": 11,
   "id": "65c8e7af-5cdb-4610-8e07-83ed450ac690",
   "metadata": {
    "tags": []
   },
   "outputs": [
    {
     "name": "stdout",
     "output_type": "stream",
     "text": [
      "<class 'pandas.core.frame.DataFrame'>\n",
      "RangeIndex: 568 entries, 0 to 567\n",
      "Data columns (total 4 columns):\n",
      " #   Column        Non-Null Count  Dtype \n",
      "---  ------        --------------  ----- \n",
      " 0   doc_type      568 non-null    object\n",
      " 1   doc_name      568 non-null    object\n",
      " 2   doc_content   568 non-null    object\n",
      " 3   doc_segments  568 non-null    object\n",
      "dtypes: object(4)\n",
      "memory usage: 17.9+ KB\n"
     ]
    }
   ],
   "source": [
    "doc_segments_df.info()"
   ]
  },
  {
   "cell_type": "code",
   "execution_count": 12,
   "id": "560c486a-ac14-4a5a-aa1e-87d5be63d5e3",
   "metadata": {
    "tags": []
   },
   "outputs": [
    {
     "data": {
      "text/plain": [
       "(568, 512)"
      ]
     },
     "execution_count": 12,
     "metadata": {},
     "output_type": "execute_result"
    }
   ],
   "source": [
    "seq_len=512\n",
    "num_samples=len(doc_segments_df)\n",
    "\n",
    "Xids=np.zeros((num_samples, seq_len))\n",
    "Xmask = np.zeros((num_samples, seq_len))\n",
    "\n",
    "Xids.shape"
   ]
  },
  {
   "cell_type": "code",
   "execution_count": 13,
   "id": "b2a0f21e-9e8d-4588-b13a-9e58f8be2be1",
   "metadata": {
    "tags": []
   },
   "outputs": [
    {
     "data": {
      "text/plain": [
       "(568, 512)"
      ]
     },
     "execution_count": 13,
     "metadata": {},
     "output_type": "execute_result"
    }
   ],
   "source": [
    "Xmask.shape"
   ]
  },
  {
   "cell_type": "code",
   "execution_count": 14,
   "id": "7982fdc1-1bef-4186-a07c-ca88bdeeebce",
   "metadata": {
    "tags": []
   },
   "outputs": [
    {
     "data": {
      "text/plain": [
       "array([[0., 0., 0., ..., 0., 0., 0.],\n",
       "       [0., 0., 0., ..., 0., 0., 0.],\n",
       "       [0., 0., 0., ..., 0., 0., 0.],\n",
       "       ...,\n",
       "       [0., 0., 0., ..., 0., 0., 0.],\n",
       "       [0., 0., 0., ..., 0., 0., 0.],\n",
       "       [0., 0., 0., ..., 0., 0., 0.]])"
      ]
     },
     "execution_count": 14,
     "metadata": {},
     "output_type": "execute_result"
    }
   ],
   "source": [
    "Xids"
   ]
  },
  {
   "cell_type": "code",
   "execution_count": 15,
   "id": "35839b03-34c1-488b-8323-682e22bb11b9",
   "metadata": {
    "tags": []
   },
   "outputs": [
    {
     "data": {
      "text/plain": [
       "array([[0., 0., 0., ..., 0., 0., 0.],\n",
       "       [0., 0., 0., ..., 0., 0., 0.],\n",
       "       [0., 0., 0., ..., 0., 0., 0.],\n",
       "       ...,\n",
       "       [0., 0., 0., ..., 0., 0., 0.],\n",
       "       [0., 0., 0., ..., 0., 0., 0.],\n",
       "       [0., 0., 0., ..., 0., 0., 0.]])"
      ]
     },
     "execution_count": 15,
     "metadata": {},
     "output_type": "execute_result"
    }
   ],
   "source": [
    "Xmask"
   ]
  },
  {
   "cell_type": "code",
   "execution_count": 16,
   "id": "a88d9523-8228-4b54-88a8-53f3e882b882",
   "metadata": {
    "tags": []
   },
   "outputs": [],
   "source": [
    "tokenizer=BertTokenizer.from_pretrained('bert-base-cased')\n",
    "\n",
    "\"\"\" \n",
    "Special Tokens\n",
    "[CLS] - The beginning of a sequence\n",
    "[SEP] - The separator token, separates different sequences or marks the end of a sequence\n",
    "[PAD] - padding token - pushes token length to max tokens or truncates to the max length. Needed to train the model as you cannot have uneven amount of tokens.\n",
    "\"\"\"\n",
    "\n",
    "for i, text in enumerate(doc_segments_df['doc_segments']): # loop through each phrase in the new doc DF\n",
    "    tokens=tokenizer.encode_plus(text, # single prase to be evaluated\n",
    "                                 max_length=seq_len, # setting the length of our tokens\n",
    "                                 truncation=True, # truncate tokens above max tokens\n",
    "                                 padding='max_length', # add tokens to the max length\n",
    "                                 add_special_tokens=True,  # use special tokens\n",
    "                                 return_tensors='tf' # returning tensorflow tensors\n",
    "        )\n",
    "    Xids[i, :] = tokens['input_ids'] # determines which line to add data to (i) and then tokenizes the phrases from review and adds them to Xids\n",
    "    Xmask[i, :] = tokens['attention_mask'] # determines which line to add data to (i) and then tokenizes the phrases from review and adds them to Xmask"
   ]
  },
  {
   "cell_type": "code",
   "execution_count": 17,
   "id": "5249fd56-6b6e-4ee9-b030-094b8da7efa2",
   "metadata": {
    "tags": []
   },
   "outputs": [
    {
     "data": {
      "text/plain": [
       "{'input_ids': <tf.Tensor: shape=(1, 512), dtype=int32, numpy=\n",
       "array([[  101,  7037,  7421,  6400,  1659, 18589, 10424, 23249,  4335,\n",
       "         1571, 18910, 22737, 25647,  7421, 16151,  3190,  5519,  1604,\n",
       "        25491,  1545,   153, 13901,   172,  8732,  2553,  1106,  1126,\n",
       "         8331,  1388,  1113,  1103,  4026,  1120, 14265,  1104,  7037,\n",
       "          178,  1115,  1110,  1388,  1113,  1137,  4035,  1665, 20073,\n",
       "         1279,  2135,  1115,  3849,  1104,  1103,  4026,  2548,  1106,\n",
       "         1126,  7166,  1880,  2589,  1174,  1107, 23070,   139,  1134,\n",
       "         3290,  2686,  1121,  1103,  6730,  1104,  1103,  1268,  1106,\n",
       "         4731,  1103,  7166,  1880,  1111,  1103,  3007,  1111,  1134,\n",
       "         1122,  1108,  3609,  1137,  9142,  1137, 25550,  3694,  1121,\n",
       "         1103,  2174,  6730,  1104,   170,  1268,  1106,  1329,  1103,\n",
       "         2473,  1104,  1103,  4026,  1111,  1103, 16026,  1137,  1718,\n",
       "         1104, 15362,  1137,  1251,  1168,  4841,  6385, 11931,  7954,\n",
       "        15804,  2589,  1174,  1121,  1103,  6136,  1104,  1103,  4026,\n",
       "         1137,  2589,  1174,  1107, 23070,   139,   124,  1188, 22843,\n",
       "         1674,  1136, 22233,  3313,  1222,  2445,  1137,  3290,  1105,\n",
       "         1103,  1881,  1209,  1136,  2653,  4692, 19724,  9942,  1137,\n",
       "        11928,  3694,  1121,   170,  1251, 23401,  4049,  1107,  1126,\n",
       "         6337,  3780,   170, 10549,   171,  1251, 23401,  8616,  1106,\n",
       "        15337,  1104,  1251,  2076,  1106,  3870,  5972,  6949,  1137,\n",
       "         1231, 16418,  2116,  1113,  1103,  4026,   172,  2589,  1112,\n",
       "         2136,  1107,  6177,   124,   173,  1251, 23401,  8616,  1106,\n",
       "         4801,  3636,  1104,  1251,  1912,  1137,  2731,  1259, 20981,\n",
       "         1137, 12844,  5218,  2975,  1137, 15804,   173, 20908,  7552,\n",
       "         1783,   175, 19366, 20362,  1158, 20401,  8386,  1137,  4841,\n",
       "         5570,  3633,  1137,   174, 24928, 23655, 12329,  1118,   170,\n",
       "         1825,  1137,  1126, 13832,  3121,  2340,  4252,  1200, 21349,\n",
       "         1158,   170,  1268,  1106, 16143,  1137,  3689, 15362,  1137,\n",
       "         1168,  4841,  6385, 11931,  7954, 15804,  1188, 22843,  1110,\n",
       "         3010,  1112,  1226,  1104,  1103,  2818,  9656,  1112,  1122,\n",
       "         6848,  1193,  2231,  1122,  1674,  1136,   178, 22015,  1251,\n",
       "         1104,  1103,  2538,  1105,  8939,  1104,  1103,  2818, 25550,\n",
       "        22015,  1251,  2988, 22843,  1116, 25550,  1182,  7532,  1103,\n",
       "        14265,  1104,  7037,  1137,   178,  1964,  2773,  1103,  7277,\n",
       "         6094,  2227,  1104, 11037,  1706,  1103,  6102,   170,  9348,\n",
       "         1104,  1103,  2818,  1137,   170,  2166, 22843,  1110, 22410,\n",
       "         1114,  1126,  6848,  9348,  1104,  1142, 22843,  1142, 22843,\n",
       "         7451, 15853,  1142, 22843,  1110,  2548,  1106,  1155,  1104,\n",
       "         1103,  2538,  1105,  8939,  1104,  1103,  2818,  1105,  1104,\n",
       "         1251,  2988, 22843,  1116, 15969,   160, 12150, 22680, 12480,\n",
       "          160,  3048,  9637,  2036,  2346,  2271,  1103,  1881,  1144,\n",
       "         2416,  1142, 22843,  1106,  1129,  3010,  1105,  1561,  9221,\n",
       "         1165,  1878,  1118,  1126,  9320,  2575,  1137,  6825,  3677,\n",
       "         1104,  1103,  1881,  2586,  1183,   170,  1559,   175,  1183,\n",
       "         1650, 14593,  2200,  4124,  1137, 24689,  1181,  9341,  3456,\n",
       "          147,  7103,  3192, 24689,  1302,  5037,  1545,  1559,  1545,\n",
       "        22639,   152, 21669, 22672,  1407, 18589,  9159,   130,  5037,\n",
       "        20515,  4907,  6126, 13832,  1665, 20073,  4385,  9139, 16179,\n",
       "         5135, 18649,  1880,  6750,  3673,   125,   123,  1367,   142,\n",
       "         2249,  5465,  1495,   130,  1479,  1492, 10605,  1389,  7037,\n",
       "         2809,   102,     0,     0,     0,     0,     0,     0,     0,\n",
       "            0,     0,     0,     0,     0,     0,     0,     0,     0,\n",
       "            0,     0,     0,     0,     0,     0,     0,     0,     0,\n",
       "            0,     0,     0,     0,     0,     0,     0,     0,     0,\n",
       "            0,     0,     0,     0,     0,     0,     0,     0,     0,\n",
       "            0,     0,     0,     0,     0,     0,     0,     0,     0,\n",
       "            0,     0,     0,     0,     0,     0,     0,     0]])>, 'token_type_ids': <tf.Tensor: shape=(1, 512), dtype=int32, numpy=\n",
       "array([[0, 0, 0, 0, 0, 0, 0, 0, 0, 0, 0, 0, 0, 0, 0, 0, 0, 0, 0, 0, 0, 0,\n",
       "        0, 0, 0, 0, 0, 0, 0, 0, 0, 0, 0, 0, 0, 0, 0, 0, 0, 0, 0, 0, 0, 0,\n",
       "        0, 0, 0, 0, 0, 0, 0, 0, 0, 0, 0, 0, 0, 0, 0, 0, 0, 0, 0, 0, 0, 0,\n",
       "        0, 0, 0, 0, 0, 0, 0, 0, 0, 0, 0, 0, 0, 0, 0, 0, 0, 0, 0, 0, 0, 0,\n",
       "        0, 0, 0, 0, 0, 0, 0, 0, 0, 0, 0, 0, 0, 0, 0, 0, 0, 0, 0, 0, 0, 0,\n",
       "        0, 0, 0, 0, 0, 0, 0, 0, 0, 0, 0, 0, 0, 0, 0, 0, 0, 0, 0, 0, 0, 0,\n",
       "        0, 0, 0, 0, 0, 0, 0, 0, 0, 0, 0, 0, 0, 0, 0, 0, 0, 0, 0, 0, 0, 0,\n",
       "        0, 0, 0, 0, 0, 0, 0, 0, 0, 0, 0, 0, 0, 0, 0, 0, 0, 0, 0, 0, 0, 0,\n",
       "        0, 0, 0, 0, 0, 0, 0, 0, 0, 0, 0, 0, 0, 0, 0, 0, 0, 0, 0, 0, 0, 0,\n",
       "        0, 0, 0, 0, 0, 0, 0, 0, 0, 0, 0, 0, 0, 0, 0, 0, 0, 0, 0, 0, 0, 0,\n",
       "        0, 0, 0, 0, 0, 0, 0, 0, 0, 0, 0, 0, 0, 0, 0, 0, 0, 0, 0, 0, 0, 0,\n",
       "        0, 0, 0, 0, 0, 0, 0, 0, 0, 0, 0, 0, 0, 0, 0, 0, 0, 0, 0, 0, 0, 0,\n",
       "        0, 0, 0, 0, 0, 0, 0, 0, 0, 0, 0, 0, 0, 0, 0, 0, 0, 0, 0, 0, 0, 0,\n",
       "        0, 0, 0, 0, 0, 0, 0, 0, 0, 0, 0, 0, 0, 0, 0, 0, 0, 0, 0, 0, 0, 0,\n",
       "        0, 0, 0, 0, 0, 0, 0, 0, 0, 0, 0, 0, 0, 0, 0, 0, 0, 0, 0, 0, 0, 0,\n",
       "        0, 0, 0, 0, 0, 0, 0, 0, 0, 0, 0, 0, 0, 0, 0, 0, 0, 0, 0, 0, 0, 0,\n",
       "        0, 0, 0, 0, 0, 0, 0, 0, 0, 0, 0, 0, 0, 0, 0, 0, 0, 0, 0, 0, 0, 0,\n",
       "        0, 0, 0, 0, 0, 0, 0, 0, 0, 0, 0, 0, 0, 0, 0, 0, 0, 0, 0, 0, 0, 0,\n",
       "        0, 0, 0, 0, 0, 0, 0, 0, 0, 0, 0, 0, 0, 0, 0, 0, 0, 0, 0, 0, 0, 0,\n",
       "        0, 0, 0, 0, 0, 0, 0, 0, 0, 0, 0, 0, 0, 0, 0, 0, 0, 0, 0, 0, 0, 0,\n",
       "        0, 0, 0, 0, 0, 0, 0, 0, 0, 0, 0, 0, 0, 0, 0, 0, 0, 0, 0, 0, 0, 0,\n",
       "        0, 0, 0, 0, 0, 0, 0, 0, 0, 0, 0, 0, 0, 0, 0, 0, 0, 0, 0, 0, 0, 0,\n",
       "        0, 0, 0, 0, 0, 0, 0, 0, 0, 0, 0, 0, 0, 0, 0, 0, 0, 0, 0, 0, 0, 0,\n",
       "        0, 0, 0, 0, 0, 0]])>, 'attention_mask': <tf.Tensor: shape=(1, 512), dtype=int32, numpy=\n",
       "array([[1, 1, 1, 1, 1, 1, 1, 1, 1, 1, 1, 1, 1, 1, 1, 1, 1, 1, 1, 1, 1, 1,\n",
       "        1, 1, 1, 1, 1, 1, 1, 1, 1, 1, 1, 1, 1, 1, 1, 1, 1, 1, 1, 1, 1, 1,\n",
       "        1, 1, 1, 1, 1, 1, 1, 1, 1, 1, 1, 1, 1, 1, 1, 1, 1, 1, 1, 1, 1, 1,\n",
       "        1, 1, 1, 1, 1, 1, 1, 1, 1, 1, 1, 1, 1, 1, 1, 1, 1, 1, 1, 1, 1, 1,\n",
       "        1, 1, 1, 1, 1, 1, 1, 1, 1, 1, 1, 1, 1, 1, 1, 1, 1, 1, 1, 1, 1, 1,\n",
       "        1, 1, 1, 1, 1, 1, 1, 1, 1, 1, 1, 1, 1, 1, 1, 1, 1, 1, 1, 1, 1, 1,\n",
       "        1, 1, 1, 1, 1, 1, 1, 1, 1, 1, 1, 1, 1, 1, 1, 1, 1, 1, 1, 1, 1, 1,\n",
       "        1, 1, 1, 1, 1, 1, 1, 1, 1, 1, 1, 1, 1, 1, 1, 1, 1, 1, 1, 1, 1, 1,\n",
       "        1, 1, 1, 1, 1, 1, 1, 1, 1, 1, 1, 1, 1, 1, 1, 1, 1, 1, 1, 1, 1, 1,\n",
       "        1, 1, 1, 1, 1, 1, 1, 1, 1, 1, 1, 1, 1, 1, 1, 1, 1, 1, 1, 1, 1, 1,\n",
       "        1, 1, 1, 1, 1, 1, 1, 1, 1, 1, 1, 1, 1, 1, 1, 1, 1, 1, 1, 1, 1, 1,\n",
       "        1, 1, 1, 1, 1, 1, 1, 1, 1, 1, 1, 1, 1, 1, 1, 1, 1, 1, 1, 1, 1, 1,\n",
       "        1, 1, 1, 1, 1, 1, 1, 1, 1, 1, 1, 1, 1, 1, 1, 1, 1, 1, 1, 1, 1, 1,\n",
       "        1, 1, 1, 1, 1, 1, 1, 1, 1, 1, 1, 1, 1, 1, 1, 1, 1, 1, 1, 1, 1, 1,\n",
       "        1, 1, 1, 1, 1, 1, 1, 1, 1, 1, 1, 1, 1, 1, 1, 1, 1, 1, 1, 1, 1, 1,\n",
       "        1, 1, 1, 1, 1, 1, 1, 1, 1, 1, 1, 1, 1, 1, 1, 1, 1, 1, 1, 1, 1, 1,\n",
       "        1, 1, 1, 1, 1, 1, 1, 1, 1, 1, 1, 1, 1, 1, 1, 1, 1, 1, 1, 1, 1, 1,\n",
       "        1, 1, 1, 1, 1, 1, 1, 1, 1, 1, 1, 1, 1, 1, 1, 1, 1, 1, 1, 1, 1, 1,\n",
       "        1, 1, 1, 1, 1, 1, 1, 1, 1, 1, 1, 1, 1, 1, 1, 1, 1, 1, 1, 1, 1, 1,\n",
       "        1, 1, 1, 1, 1, 1, 1, 1, 1, 1, 1, 1, 1, 1, 1, 1, 1, 1, 1, 1, 1, 1,\n",
       "        1, 1, 1, 1, 1, 1, 1, 1, 1, 1, 1, 1, 0, 0, 0, 0, 0, 0, 0, 0, 0, 0,\n",
       "        0, 0, 0, 0, 0, 0, 0, 0, 0, 0, 0, 0, 0, 0, 0, 0, 0, 0, 0, 0, 0, 0,\n",
       "        0, 0, 0, 0, 0, 0, 0, 0, 0, 0, 0, 0, 0, 0, 0, 0, 0, 0, 0, 0, 0, 0,\n",
       "        0, 0, 0, 0, 0, 0]])>}"
      ]
     },
     "execution_count": 17,
     "metadata": {},
     "output_type": "execute_result"
    }
   ],
   "source": [
    "tokens"
   ]
  },
  {
   "cell_type": "code",
   "execution_count": 18,
   "id": "472e4c02-125b-48c0-b41e-0f39264a1a98",
   "metadata": {
    "tags": []
   },
   "outputs": [
    {
     "data": {
      "text/plain": [
       "array([[  101.,   185.,  3051., ...,     0.,     0.,     0.],\n",
       "       [  101., 27972.,   124., ...,     0.,     0.,     0.],\n",
       "       [  101., 11772.,  1302., ...,     0.,     0.,     0.],\n",
       "       ...,\n",
       "       [  101.,  7037.,  7421., ...,     0.,     0.,     0.],\n",
       "       [  101.,  7037.,  7421., ..., 20073.,  1880.,   102.],\n",
       "       [  101.,  7037.,  7421., ...,     0.,     0.,     0.]])"
      ]
     },
     "execution_count": 18,
     "metadata": {},
     "output_type": "execute_result"
    }
   ],
   "source": [
    "\"\"\"\n",
    "Noticed how the 0s are gone and replace with tokens (numbers). 101 is the CLS token or the \n",
    "start of the phrase. PAD is the padding token shown as 0.\n",
    "\"\"\"\n",
    "Xids"
   ]
  },
  {
   "cell_type": "code",
   "execution_count": 19,
   "id": "65f69a58-4f01-4994-9f89-045f8dd440ca",
   "metadata": {
    "tags": []
   },
   "outputs": [
    {
     "data": {
      "text/plain": [
       "array([[1., 1., 1., ..., 0., 0., 0.],\n",
       "       [1., 1., 1., ..., 0., 0., 0.],\n",
       "       [1., 1., 1., ..., 0., 0., 0.],\n",
       "       ...,\n",
       "       [1., 1., 1., ..., 0., 0., 0.],\n",
       "       [1., 1., 1., ..., 1., 1., 1.],\n",
       "       [1., 1., 1., ..., 0., 0., 0.]])"
      ]
     },
     "execution_count": 19,
     "metadata": {},
     "output_type": "execute_result"
    }
   ],
   "source": [
    "\"\"\"\n",
    "Noticed how the 0s are gone and replace with 1s for attention_mask. This will tell BERT where to pay attention. \n",
    "The 0s dont mean anything so they should not be evaluated. BERT should not be taking padding tokens into \n",
    "consideration.\n",
    "\"\"\"\n",
    "Xmask"
   ]
  },
  {
   "cell_type": "code",
   "execution_count": 20,
   "id": "963355de-1fc6-45f7-a549-2538a43d41c7",
   "metadata": {
    "tags": []
   },
   "outputs": [
    {
     "data": {
      "text/html": [
       "<div>\n",
       "<style scoped>\n",
       "    .dataframe tbody tr th:only-of-type {\n",
       "        vertical-align: middle;\n",
       "    }\n",
       "\n",
       "    .dataframe tbody tr th {\n",
       "        vertical-align: top;\n",
       "    }\n",
       "\n",
       "    .dataframe thead th {\n",
       "        text-align: right;\n",
       "    }\n",
       "</style>\n",
       "<table border=\"1\" class=\"dataframe\">\n",
       "  <thead>\n",
       "    <tr style=\"text-align: right;\">\n",
       "      <th></th>\n",
       "      <th>doc_type</th>\n",
       "    </tr>\n",
       "  </thead>\n",
       "  <tbody>\n",
       "    <tr>\n",
       "      <th>0</th>\n",
       "      <td>Foreclosure</td>\n",
       "    </tr>\n",
       "    <tr>\n",
       "      <th>1</th>\n",
       "      <td>Foreclosure</td>\n",
       "    </tr>\n",
       "    <tr>\n",
       "      <th>2</th>\n",
       "      <td>Foreclosure</td>\n",
       "    </tr>\n",
       "    <tr>\n",
       "      <th>3</th>\n",
       "      <td>Foreclosure</td>\n",
       "    </tr>\n",
       "    <tr>\n",
       "      <th>4</th>\n",
       "      <td>Foreclosure</td>\n",
       "    </tr>\n",
       "    <tr>\n",
       "      <th>...</th>\n",
       "      <td>...</td>\n",
       "    </tr>\n",
       "    <tr>\n",
       "      <th>563</th>\n",
       "      <td>Title</td>\n",
       "    </tr>\n",
       "    <tr>\n",
       "      <th>564</th>\n",
       "      <td>Title</td>\n",
       "    </tr>\n",
       "    <tr>\n",
       "      <th>565</th>\n",
       "      <td>Title</td>\n",
       "    </tr>\n",
       "    <tr>\n",
       "      <th>566</th>\n",
       "      <td>Title</td>\n",
       "    </tr>\n",
       "    <tr>\n",
       "      <th>567</th>\n",
       "      <td>Title</td>\n",
       "    </tr>\n",
       "  </tbody>\n",
       "</table>\n",
       "<p>568 rows × 1 columns</p>\n",
       "</div>"
      ],
      "text/plain": [
       "        doc_type\n",
       "0    Foreclosure\n",
       "1    Foreclosure\n",
       "2    Foreclosure\n",
       "3    Foreclosure\n",
       "4    Foreclosure\n",
       "..           ...\n",
       "563        Title\n",
       "564        Title\n",
       "565        Title\n",
       "566        Title\n",
       "567        Title\n",
       "\n",
       "[568 rows x 1 columns]"
      ]
     },
     "execution_count": 20,
     "metadata": {},
     "output_type": "execute_result"
    }
   ],
   "source": [
    "\"\"\"\n",
    "Creates a series based on the doc_type value. May need to encode for \n",
    "categorical publish_display_data, aka names of templates.\n",
    "\"\"\"\n",
    "arr=pd.DataFrame(doc_segments_df['doc_type'])\n",
    "arr"
   ]
  },
  {
   "cell_type": "code",
   "execution_count": 67,
   "id": "7b66e783-e269-4364-b30e-ad6fb0171be0",
   "metadata": {
    "tags": []
   },
   "outputs": [],
   "source": []
  },
  {
   "cell_type": "code",
   "execution_count": 21,
   "id": "3bdde8b6-765b-4358-8227-88ee79489a21",
   "metadata": {
    "tags": []
   },
   "outputs": [],
   "source": [
    "from sklearn.preprocessing import LabelEncoder\n",
    "le=LabelEncoder()\n",
    "le.fit(arr['doc_type'])\n",
    "arr['doc_type_no']=le.transform(arr['doc_type'])"
   ]
  },
  {
   "cell_type": "code",
   "execution_count": 22,
   "id": "37646a29-f3ce-4552-a6a1-b4b231534267",
   "metadata": {
    "tags": []
   },
   "outputs": [
    {
     "data": {
      "text/html": [
       "<div>\n",
       "<style scoped>\n",
       "    .dataframe tbody tr th:only-of-type {\n",
       "        vertical-align: middle;\n",
       "    }\n",
       "\n",
       "    .dataframe tbody tr th {\n",
       "        vertical-align: top;\n",
       "    }\n",
       "\n",
       "    .dataframe thead th {\n",
       "        text-align: right;\n",
       "    }\n",
       "</style>\n",
       "<table border=\"1\" class=\"dataframe\">\n",
       "  <thead>\n",
       "    <tr style=\"text-align: right;\">\n",
       "      <th></th>\n",
       "      <th>doc_type</th>\n",
       "      <th>doc_type_no</th>\n",
       "    </tr>\n",
       "  </thead>\n",
       "  <tbody>\n",
       "    <tr>\n",
       "      <th>0</th>\n",
       "      <td>Foreclosure</td>\n",
       "      <td>0</td>\n",
       "    </tr>\n",
       "    <tr>\n",
       "      <th>1</th>\n",
       "      <td>General</td>\n",
       "      <td>1</td>\n",
       "    </tr>\n",
       "    <tr>\n",
       "      <th>2</th>\n",
       "      <td>Mortgage</td>\n",
       "      <td>2</td>\n",
       "    </tr>\n",
       "    <tr>\n",
       "      <th>3</th>\n",
       "      <td>Note</td>\n",
       "      <td>3</td>\n",
       "    </tr>\n",
       "    <tr>\n",
       "      <th>4</th>\n",
       "      <td>Origination</td>\n",
       "      <td>4</td>\n",
       "    </tr>\n",
       "    <tr>\n",
       "      <th>5</th>\n",
       "      <td>Title</td>\n",
       "      <td>5</td>\n",
       "    </tr>\n",
       "  </tbody>\n",
       "</table>\n",
       "</div>"
      ],
      "text/plain": [
       "      doc_type  doc_type_no\n",
       "0  Foreclosure            0\n",
       "1      General            1\n",
       "2     Mortgage            2\n",
       "3         Note            3\n",
       "4  Origination            4\n",
       "5        Title            5"
      ]
     },
     "execution_count": 22,
     "metadata": {},
     "output_type": "execute_result"
    }
   ],
   "source": [
    "arr.apply(lambda x: x.unique())"
   ]
  },
  {
   "cell_type": "code",
   "execution_count": 23,
   "id": "c80d0545-ae67-4776-9043-aa0c5453157d",
   "metadata": {
    "tags": []
   },
   "outputs": [],
   "source": [
    "\"\"\"\"\n",
    "Creates and array of 0s the length of the number of samples we have.\n",
    "the width is equal to the number of possible values. In other words,\n",
    "each location in a single array represents a column for values 0-56 for \n",
    "a total of 57 positions. Each location in of the array in the matrix, in this \n",
    "case positions 0-156,059, represents each of the reviews in the original dataframe\n",
    "\"\"\"\n",
    "max_cat=arr.doc_type_no.max()\n",
    "max_cat\n",
    "labels=np.zeros((num_samples, max_cat+1))"
   ]
  },
  {
   "cell_type": "code",
   "execution_count": 24,
   "id": "82b0a481-567b-46f5-96c8-a1fe576371a3",
   "metadata": {
    "tags": []
   },
   "outputs": [
    {
     "data": {
      "text/plain": [
       "(568, 6)"
      ]
     },
     "execution_count": 24,
     "metadata": {},
     "output_type": "execute_result"
    }
   ],
   "source": [
    "# 57 possible values for each of the 156,060 reviews\n",
    "labels.shape"
   ]
  },
  {
   "cell_type": "code",
   "execution_count": 25,
   "id": "380ddc85-84d0-42bb-a4f3-1d6ad74f4a8d",
   "metadata": {
    "tags": []
   },
   "outputs": [
    {
     "data": {
      "text/plain": [
       "array([[0., 0., 0., 0., 0., 0.],\n",
       "       [0., 0., 0., 0., 0., 0.],\n",
       "       [0., 0., 0., 0., 0., 0.],\n",
       "       ...,\n",
       "       [0., 0., 0., 0., 0., 0.],\n",
       "       [0., 0., 0., 0., 0., 0.],\n",
       "       [0., 0., 0., 0., 0., 0.]])"
      ]
     },
     "execution_count": 25,
     "metadata": {},
     "output_type": "execute_result"
    }
   ],
   "source": [
    "# We've only instantiated the matrix with 0s so far\n",
    "labels"
   ]
  },
  {
   "cell_type": "code",
   "execution_count": 26,
   "id": "60bab26b-9ddc-4720-a6a8-e9c7f1d11b65",
   "metadata": {
    "tags": []
   },
   "outputs": [],
   "source": [
    "\"\"\"\"\n",
    "This code fills in the matrix with 1s by selecting the row we want (num_samples)\n",
    "with the column we want (arr which is based on the value of the sentiment).\n",
    "\"\"\"\n",
    "labels[np.arange(num_samples), arr['doc_type_no']] = 1"
   ]
  },
  {
   "cell_type": "code",
   "execution_count": 27,
   "id": "6cd3982b-d54e-429e-a4c5-a51fe1c6ab3d",
   "metadata": {
    "tags": []
   },
   "outputs": [
    {
     "name": "stdout",
     "output_type": "stream",
     "text": [
      "[[1. 0. 0. 0. 0. 0.]\n",
      " [1. 0. 0. 0. 0. 0.]\n",
      " [1. 0. 0. 0. 0. 0.]\n",
      " ...\n",
      " [0. 0. 0. 0. 0. 1.]\n",
      " [0. 0. 0. 0. 0. 1.]\n",
      " [0. 0. 0. 0. 0. 1.]]\n"
     ]
    }
   ],
   "source": [
    "print(labels)"
   ]
  },
  {
   "cell_type": "code",
   "execution_count": 42,
   "id": "186b1dc2-c7a6-4c7c-a5aa-4ef9ed648f24",
   "metadata": {
    "tags": []
   },
   "outputs": [
    {
     "data": {
      "text/plain": [
       "<TakeDataset element_spec=(TensorSpec(shape=(512,), dtype=tf.float64, name=None), TensorSpec(shape=(512,), dtype=tf.float64, name=None), TensorSpec(shape=(6,), dtype=tf.float64, name=None))>"
      ]
     },
     "execution_count": 42,
     "metadata": {},
     "output_type": "execute_result"
    }
   ],
   "source": [
    "\"\"\"\n",
    "This will create tensorflow datasets which are similar to arrays?\n",
    "THey cannot be printed directly because they are generator types.\n",
    "Can access them by adding '.take(i)'\n",
    "Notice each item in the triple tuple is represented in the dataset. \n",
    "\"\"\"\n",
    "\n",
    "dataset = tf.data.Dataset.from_tensor_slices((Xids, Xmask,labels))\n",
    "dataset.take(1)"
   ]
  },
  {
   "cell_type": "code",
   "execution_count": 29,
   "id": "e3c4d11c-8f05-406c-af21-7de7bb737c55",
   "metadata": {
    "tags": []
   },
   "outputs": [
    {
     "data": {
      "text/plain": [
       "(512,)"
      ]
     },
     "execution_count": 29,
     "metadata": {},
     "output_type": "execute_result"
    }
   ],
   "source": [
    "Xids[0,:].shape"
   ]
  },
  {
   "cell_type": "code",
   "execution_count": 30,
   "id": "1f1d70ce-c867-40b7-86ce-baaf3070ec53",
   "metadata": {
    "tags": []
   },
   "outputs": [
    {
     "data": {
      "text/plain": [
       "(512,)"
      ]
     },
     "execution_count": 30,
     "metadata": {},
     "output_type": "execute_result"
    }
   ],
   "source": [
    "Xmask[0,:].shape"
   ]
  },
  {
   "cell_type": "code",
   "execution_count": 34,
   "id": "20166aeb-319d-4f30-aab4-30d722448dee",
   "metadata": {
    "tags": []
   },
   "outputs": [
    {
     "data": {
      "text/plain": [
       "(6,)"
      ]
     },
     "execution_count": 34,
     "metadata": {},
     "output_type": "execute_result"
    }
   ],
   "source": [
    "labels[0,:].shape"
   ]
  },
  {
   "cell_type": "code",
   "execution_count": 43,
   "id": "fa3322d3-2d12-45f1-8116-4f6dc00f029a",
   "metadata": {
    "tags": []
   },
   "outputs": [],
   "source": [
    "def map_func(input_ids, masks, labels):\n",
    "    return {'input_ids': input_ids, 'attention_mask': masks}, labels"
   ]
  },
  {
   "cell_type": "code",
   "execution_count": 44,
   "id": "00a9930a-1003-4158-b6c7-d1d2cef8d091",
   "metadata": {
    "tags": []
   },
   "outputs": [
    {
     "data": {
      "text/plain": [
       "<TakeDataset element_spec=({'input_ids': TensorSpec(shape=(512,), dtype=tf.float64, name=None), 'attention_mask': TensorSpec(shape=(512,), dtype=tf.float64, name=None)}, TensorSpec(shape=(6,), dtype=tf.float64, name=None))>"
      ]
     },
     "execution_count": 44,
     "metadata": {},
     "output_type": "execute_result"
    }
   ],
   "source": [
    "dataset=dataset.map(map_func)\n",
    "dataset.take(1)"
   ]
  },
  {
   "cell_type": "code",
   "execution_count": 45,
   "id": "a0ddfbdc-1644-4562-b86b-253d7d1bddc2",
   "metadata": {
    "tags": []
   },
   "outputs": [],
   "source": [
    "\"\"\"\n",
    "GPU needs to be taken into consideration when choosing batch size for processing. 16 is high (4090 FTW!!!)\n",
    "Always shuffle before batching or youll have weird chunks of data in a somewhat sorted way which we dont want.\n",
    "We want to ensure training is randomized for the model to learn from. Be sure to drop remainders to ensure \n",
    "batch size\n",
    "\"\"\"\n",
    "\n",
    "batch_size=8\n",
    "dataset=dataset.shuffle(10000).batch(batch_size, drop_remainder=True)"
   ]
  },
  {
   "cell_type": "code",
   "execution_count": 46,
   "id": "9f9f2559-df0e-4a9a-8c23-6fb88a738347",
   "metadata": {
    "tags": []
   },
   "outputs": [],
   "source": [
    "# Setting the test and training split sizes. here we want 10% of the data to be a holdout for testing\n",
    "\n",
    "split=0.8\n",
    "size=int((num_samples/batch_size)*split)"
   ]
  },
  {
   "cell_type": "code",
   "execution_count": 47,
   "id": "e75d2d3a-22cd-498e-aa53-10568349dd7d",
   "metadata": {
    "tags": []
   },
   "outputs": [],
   "source": [
    "train_dataset=dataset.take(size)\n",
    "val_dataset=dataset.skip(size)\n",
    "\n",
    "del dataset # removing as we no longer need it"
   ]
  },
  {
   "cell_type": "code",
   "execution_count": 48,
   "id": "e7cee187-9878-40cd-a7ec-2b2dba7f2ca3",
   "metadata": {
    "tags": []
   },
   "outputs": [
    {
     "name": "stderr",
     "output_type": "stream",
     "text": [
      "c:\\Program Files\\Python310\\lib\\site-packages\\huggingface_hub\\file_download.py:133: UserWarning: `huggingface_hub` cache-system uses symlinks by default to efficiently store duplicated files but your machine does not support them in C:\\Users\\Tim Williams\\.cache\\huggingface\\hub. Caching files will still work but in a degraded version that might require more space on your disk. This warning can be disabled by setting the `HF_HUB_DISABLE_SYMLINKS_WARNING` environment variable. For more details, see https://huggingface.co/docs/huggingface_hub/how-to-cache#limitations.\n",
      "To support symlinks on Windows, you either need to activate Developer Mode or to run Python as an administrator. In order to see activate developer mode, see this article: https://docs.microsoft.com/en-us/windows/apps/get-started/enable-your-device-for-development\n",
      "  warnings.warn(message)\n",
      "Some weights of the PyTorch model were not used when initializing the TF 2.0 model TFBertModel: ['cls.predictions.transform.LayerNorm.weight', 'cls.predictions.bias', 'cls.predictions.transform.LayerNorm.bias', 'cls.seq_relationship.weight', 'cls.seq_relationship.bias', 'cls.predictions.transform.dense.weight', 'cls.predictions.transform.dense.bias']\n",
      "- This IS expected if you are initializing TFBertModel from a PyTorch model trained on another task or with another architecture (e.g. initializing a TFBertForSequenceClassification model from a BertForPreTraining model).\n",
      "- This IS NOT expected if you are initializing TFBertModel from a PyTorch model that you expect to be exactly identical (e.g. initializing a TFBertForSequenceClassification model from a BertForSequenceClassification model).\n",
      "All the weights of TFBertModel were initialized from the PyTorch model.\n",
      "If your task is similar to the task the model of the checkpoint was trained on, you can already use TFBertModel for predictions without further training.\n"
     ]
    },
    {
     "name": "stdout",
     "output_type": "stream",
     "text": [
      "Model: \"tf_bert_model\"\n",
      "_________________________________________________________________\n",
      " Layer (type)                Output Shape              Param #   \n",
      "=================================================================\n",
      " bert (TFBertMainLayer)      multiple                  109482240 \n",
      "                                                                 \n",
      "=================================================================\n",
      "Total params: 109,482,240\n",
      "Trainable params: 109,482,240\n",
      "Non-trainable params: 0\n",
      "_________________________________________________________________\n"
     ]
    }
   ],
   "source": [
    "from transformers import TFAutoModel\n",
    "#from keras.saving.hdf5_format import save_attributes_to_hdf5_group\n",
    "\n",
    "bert=TFAutoModel.from_pretrained('bert-base-uncased')\n",
    "\n",
    "bert.summary()"
   ]
  },
  {
   "cell_type": "code",
   "execution_count": 49,
   "id": "9cb102c3-26d5-4918-a7cc-49219c187808",
   "metadata": {
    "tags": []
   },
   "outputs": [],
   "source": [
    "input_ids=tf.keras.Input(shape=(seq_len,), name='input_ids', dtype='int32')\n",
    "mask=tf.keras.Input(shape=(seq_len,), name='attention_mask', dtype='int32')\n",
    "\n",
    "embeddings=bert.bert(input_ids, attention_mask=mask)[1]\n",
    "\n",
    "x = tf.keras.layers.Dense(1024, activation='relu')(embeddings)\n",
    "y = tf.keras.layers.Dense(max_cat+1, activation='softmax', name='outputs')(x)"
   ]
  },
  {
   "cell_type": "code",
   "execution_count": 50,
   "id": "2b457903-ec8b-47de-bc5d-ce057a065abf",
   "metadata": {
    "tags": []
   },
   "outputs": [
    {
     "name": "stdout",
     "output_type": "stream",
     "text": [
      "Model: \"model\"\n",
      "__________________________________________________________________________________________________\n",
      " Layer (type)                   Output Shape         Param #     Connected to                     \n",
      "==================================================================================================\n",
      " input_ids (InputLayer)         [(None, 512)]        0           []                               \n",
      "                                                                                                  \n",
      " attention_mask (InputLayer)    [(None, 512)]        0           []                               \n",
      "                                                                                                  \n",
      " bert (TFBertMainLayer)         TFBaseModelOutputWi  109482240   ['input_ids[0][0]',              \n",
      "                                thPoolingAndCrossAt               'attention_mask[0][0]']         \n",
      "                                tentions(last_hidde                                               \n",
      "                                n_state=(None, 512,                                               \n",
      "                                 768),                                                            \n",
      "                                 pooler_output=(Non                                               \n",
      "                                e, 768),                                                          \n",
      "                                 past_key_values=No                                               \n",
      "                                ne, hidden_states=N                                               \n",
      "                                one, attentions=Non                                               \n",
      "                                e, cross_attentions                                               \n",
      "                                =None)                                                            \n",
      "                                                                                                  \n",
      " dense (Dense)                  (None, 1024)         787456      ['bert[0][1]']                   \n",
      "                                                                                                  \n",
      " outputs (Dense)                (None, 6)            6150        ['dense[0][0]']                  \n",
      "                                                                                                  \n",
      "==================================================================================================\n",
      "Total params: 110,275,846\n",
      "Trainable params: 110,275,846\n",
      "Non-trainable params: 0\n",
      "__________________________________________________________________________________________________\n"
     ]
    }
   ],
   "source": [
    "model=tf.keras.Model(inputs=[input_ids, mask], outputs=y)\n",
    "# model.layers[2].trainable=False -- Use this if the computer is not strong enough\n",
    "model.summary()"
   ]
  },
  {
   "cell_type": "code",
   "execution_count": 51,
   "id": "7e6361ad-eb1c-43f4-805c-1ba925876c19",
   "metadata": {
    "tags": []
   },
   "outputs": [],
   "source": [
    "optimizer=tf.keras.optimizers.Adam(learning_rate=1e-5, decay=1e-6)\n",
    "loss=tf.keras.losses.CategoricalCrossentropy()\n",
    "accuracy=tf.keras.metrics.CategoricalAccuracy('accuracy')"
   ]
  },
  {
   "cell_type": "code",
   "execution_count": 52,
   "id": "ce82d390-3a1e-4516-9bc7-c16410a89ef9",
   "metadata": {
    "tags": []
   },
   "outputs": [],
   "source": [
    "model.compile(optimizer=optimizer, loss=loss, metrics=[accuracy])"
   ]
  },
  {
   "cell_type": "code",
   "execution_count": 53,
   "id": "57c3062e-cb97-479a-ada5-20819ca36f5b",
   "metadata": {
    "tags": []
   },
   "outputs": [
    {
     "name": "stdout",
     "output_type": "stream",
     "text": [
      "Epoch 1/20\n",
      "56/56 [==============================] - 405s 7s/step - loss: 1.5020 - accuracy: 0.4129 - val_loss: 1.4870 - val_accuracy: 0.4417\n",
      "Epoch 2/20\n",
      "56/56 [==============================] - 404s 7s/step - loss: 1.3857 - accuracy: 0.4710 - val_loss: 1.2707 - val_accuracy: 0.4583\n",
      "Epoch 3/20\n",
      "56/56 [==============================] - 405s 7s/step - loss: 1.1963 - accuracy: 0.5513 - val_loss: 1.0813 - val_accuracy: 0.6500\n",
      "Epoch 4/20\n",
      "56/56 [==============================] - 407s 7s/step - loss: 1.0227 - accuracy: 0.6295 - val_loss: 1.0238 - val_accuracy: 0.6417\n",
      "Epoch 5/20\n",
      "56/56 [==============================] - 406s 7s/step - loss: 0.9286 - accuracy: 0.6540 - val_loss: 0.7656 - val_accuracy: 0.7333\n",
      "Epoch 6/20\n",
      "56/56 [==============================] - 403s 7s/step - loss: 0.7880 - accuracy: 0.7411 - val_loss: 0.7049 - val_accuracy: 0.7250\n",
      "Epoch 7/20\n",
      "56/56 [==============================] - 402s 7s/step - loss: 0.6027 - accuracy: 0.8259 - val_loss: 0.7045 - val_accuracy: 0.7417\n",
      "Epoch 8/20\n",
      "56/56 [==============================] - 399s 7s/step - loss: 0.5595 - accuracy: 0.8214 - val_loss: 0.8066 - val_accuracy: 0.7083\n",
      "Epoch 9/20\n",
      "56/56 [==============================] - 402s 7s/step - loss: 0.5196 - accuracy: 0.8304 - val_loss: 0.3105 - val_accuracy: 0.9167\n",
      "Epoch 10/20\n",
      "56/56 [==============================] - 408s 7s/step - loss: 0.3982 - accuracy: 0.8772 - val_loss: 0.2400 - val_accuracy: 0.9417\n",
      "Epoch 11/20\n",
      "56/56 [==============================] - 406s 7s/step - loss: 0.3377 - accuracy: 0.8951 - val_loss: 0.2796 - val_accuracy: 0.9000\n",
      "Epoch 12/20\n",
      "56/56 [==============================] - 411s 7s/step - loss: 0.2875 - accuracy: 0.9174 - val_loss: 0.1379 - val_accuracy: 0.9750\n",
      "Epoch 13/20\n",
      "56/56 [==============================] - 411s 7s/step - loss: 0.2668 - accuracy: 0.9152 - val_loss: 0.2806 - val_accuracy: 0.9000\n",
      "Epoch 14/20\n",
      "56/56 [==============================] - 409s 7s/step - loss: 0.1999 - accuracy: 0.9375 - val_loss: 0.0780 - val_accuracy: 0.9750\n",
      "Epoch 15/20\n",
      "56/56 [==============================] - 409s 7s/step - loss: 0.1728 - accuracy: 0.9397 - val_loss: 0.2230 - val_accuracy: 0.9167\n",
      "Epoch 16/20\n",
      "56/56 [==============================] - 415s 7s/step - loss: 0.2498 - accuracy: 0.9107 - val_loss: 0.0887 - val_accuracy: 0.9667\n",
      "Epoch 17/20\n",
      "56/56 [==============================] - 408s 7s/step - loss: 0.1815 - accuracy: 0.9375 - val_loss: 0.0489 - val_accuracy: 0.9833\n",
      "Epoch 18/20\n",
      "56/56 [==============================] - 411s 7s/step - loss: 0.1196 - accuracy: 0.9621 - val_loss: 0.1205 - val_accuracy: 0.9417\n",
      "Epoch 19/20\n",
      "56/56 [==============================] - 412s 7s/step - loss: 0.0626 - accuracy: 0.9844 - val_loss: 0.0556 - val_accuracy: 0.9833\n",
      "Epoch 20/20\n",
      "56/56 [==============================] - 408s 7s/step - loss: 0.0648 - accuracy: 0.9799 - val_loss: 0.0722 - val_accuracy: 0.9750\n"
     ]
    }
   ],
   "source": [
    "history=model.fit(\n",
    "    train_dataset,\n",
    "    validation_data=val_dataset,\n",
    "    epochs=20\n",
    ")"
   ]
  },
  {
   "cell_type": "code",
   "execution_count": 56,
   "id": "61a73ec8-f03a-4c61-8672-19567c4f9442",
   "metadata": {
    "tags": []
   },
   "outputs": [
    {
     "data": {
      "image/png": "[encoded data removed]",
      "text/plain": [
       "<Figure size 640x480 with 1 Axes>"
      ]
     },
     "metadata": {},
     "output_type": "display_data"
    }
   ],
   "source": [
    "import matplotlib.pyplot as plt\n",
    "\n",
    "# Plot training and validation loss\n",
    "plt.plot(history.history['loss'], label='Training Loss')\n",
    "plt.plot(history.history['val_loss'], label='Validation Loss')\n",
    "plt.xlabel('Epoch')\n",
    "plt.ylabel('Loss')\n",
    "plt.title('Training and Validation Loss')\n",
    "plt.legend()\n",
    "plt.show()"
   ]
  },
  {
   "cell_type": "code",
   "execution_count": 57,
   "id": "d65da607-efa2-4f6a-83c2-7dc631e45a78",
   "metadata": {
    "tags": []
   },
   "outputs": [
    {
     "data": {
      "image/png": "[encoded data removed]",
      "text/plain": [
       "<Figure size 640x480 with 1 Axes>"
      ]
     },
     "metadata": {},
     "output_type": "display_data"
    }
   ],
   "source": [
    "# Plot training and validation loss\n",
    "plt.plot(history.history['accuracy'], label='Training Accuracy')\n",
    "plt.plot(history.history['val_accuracy'], label='Validation Accuracy')\n",
    "plt.xlabel('Epoch')\n",
    "plt.ylabel('Accuracy')\n",
    "plt.title('Training and Validation Accuracy')\n",
    "plt.legend()\n",
    "plt.show()"
   ]
  },
  {
   "cell_type": "code",
   "execution_count": 58,
   "id": "8865e1ce-3a6b-4f1a-bd0b-c48009ab003e",
   "metadata": {},
   "outputs": [
    {
     "name": "stderr",
     "output_type": "stream",
     "text": [
      "WARNING:absl:Found untraced functions such as embeddings_layer_call_fn, embeddings_layer_call_and_return_conditional_losses, encoder_layer_call_fn, encoder_layer_call_and_return_conditional_losses, pooler_layer_call_fn while saving (showing 5 of 420). These functions will not be directly callable after loading.\n"
     ]
    },
    {
     "name": "stdout",
     "output_type": "stream",
     "text": [
      "INFO:tensorflow:Assets written to: mortgage_doc_identifier_v01\\assets\n"
     ]
    },
    {
     "name": "stderr",
     "output_type": "stream",
     "text": [
      "INFO:tensorflow:Assets written to: mortgage_doc_identifier_v01\\assets\n"
     ]
    }
   ],
   "source": [
    "model.save('mortgage_doc_identifier_v01')"
   ]
  },
  {
   "cell_type": "markdown",
   "id": "01c14d20",
   "metadata": {},
   "source": [
    "# Appendix\n",
    "\n",
    "Unfinished code from POC"
   ]
  },
  {
   "cell_type": "code",
   "execution_count": null,
   "id": "ec8df4a4-a75e-43e6-8a16-c6a553a4f595",
   "metadata": {},
   "outputs": [],
   "source": [
    "import tensorflow as tf\n",
    "from tensorflow.keras.layers import Input, Embedding, LSTM, Dense, Bidirectional\n",
    "\n",
    "# Define the model architecture\n",
    "def hierarchical_rnn_model(max_doc_length, max_seq_length, vocab_size):\n",
    "    # Document-level inputs\n",
    "    document_input = Input(shape=(max_doc_length, max_seq_length), dtype='int32')\n",
    "    \n",
    "    # Word-level inputs within each document\n",
    "    word_input = Input(shape=(max_seq_length,), dtype='int32')\n",
    "    \n",
    "    # Word embedding layer\n",
    "    embedding = Embedding(input_dim=vocab_size, output_dim=128)\n",
    "    \n",
    "    # Word-level LSTM\n",
    "    word_lstm = Bidirectional(LSTM(64, return_sequences=False))\n",
    "    \n",
    "    # Document-level LSTM\n",
    "    document_lstm = Bidirectional(LSTM(128, return_sequences=False))\n",
    "    \n",
    "    # Word-level representation\n",
    "    word_embedded = embedding(word_input)\n",
    "    word_encoded = word_lstm(word_embedded)\n",
    "    \n",
    "    # Document-level representation\n",
    "    doc_embedded = embedding(document_input)\n",
    "    doc_encoded = LSTM(64, return_sequences=True)(doc_embedded)\n",
    "    doc_encoded = document_lstm(doc_encoded)\n",
    "    \n",
    "    # Concatenate word-level and document-level representations\n",
    "    merged = tf.concat([word_encoded, doc_encoded], axis=-1)\n",
    "    \n",
    "    # Output layer\n",
    "    output = Dense(num_classes, activation='softmax')(merged)\n",
    "    \n",
    "    # Create the model\n",
    "    model = tf.keras.Model(inputs=[document_input, word_input], outputs=output)\n",
    "    \n",
    "    return model\n",
    "\n",
    "# Set the maximum document length, sequence length, and vocabulary size\n",
    "max_doc_length = 10\n",
    "max_seq_length = 20\n",
    "vocab_size = 10000\n",
    "\n",
    "# Create an instance of the hierarchical RNN model\n",
    "model = hierarchical_rnn_model(max_doc_length, max_seq_length, vocab_size)\n",
    "\n",
    "# Compile the model\n",
    "model.compile(optimizer='adam', loss='categorical_crossentropy', metrics=['accuracy'])\n",
    "\n",
    "# Train the model\n",
    "model.fit([document_sequences, word_sequences], labels, epochs=10, batch_size=32)\n",
    "\n"
   ]
  }
 ],
 "metadata": {
  "kernelspec": {
   "display_name": "Python 3 (ipykernel)",
   "language": "python",
   "name": "python3"
  },
  "language_info": {
   "codemirror_mode": {
    "name": "ipython",
    "version": 3
   },
   "file_extension": ".py",
   "mimetype": "text/x-python",
   "name": "python",
   "nbconvert_exporter": "python",
   "pygments_lexer": "ipython3",
   "version": "3.10.11"
  }
 },
 "nbformat": 4,
 "nbformat_minor": 5
}
